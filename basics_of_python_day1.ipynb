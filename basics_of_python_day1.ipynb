{
 "cells": [
  {
   "cell_type": "markdown",
   "id": "4070897f",
   "metadata": {},
   "source": [
    "### Printing Hello World "
   ]
  },
  {
   "cell_type": "markdown",
   "id": "c63c4f0e",
   "metadata": {},
   "source": [
    "#### 1234"
   ]
  },
  {
   "cell_type": "markdown",
   "id": "88eff5c1",
   "metadata": {},
   "source": [
    "##### darsh"
   ]
  },
  {
   "cell_type": "markdown",
   "id": "1791c339",
   "metadata": {},
   "source": [
    "# shah"
   ]
  },
  {
   "cell_type": "markdown",
   "id": "6308bd76",
   "metadata": {},
   "source": [
    "###### 1234\n"
   ]
  },
  {
   "cell_type": "markdown",
   "id": "9b806623",
   "metadata": {},
   "source": [
    "####### 1234"
   ]
  },
  {
   "cell_type": "code",
   "execution_count": 1,
   "id": "f0047ba2",
   "metadata": {},
   "outputs": [
    {
     "name": "stdout",
     "output_type": "stream",
     "text": [
      "Hello World\n"
     ]
    }
   ],
   "source": [
    "print (\"Hello World\")"
   ]
  },
  {
   "cell_type": "code",
   "execution_count": 2,
   "id": "8a25a84c",
   "metadata": {},
   "outputs": [
    {
     "name": "stdout",
     "output_type": "stream",
     "text": [
      "Darsh Shah\n"
     ]
    }
   ],
   "source": [
    "print (\"Darsh Shah\")"
   ]
  },
  {
   "cell_type": "code",
   "execution_count": 3,
   "id": "144f1dc0",
   "metadata": {},
   "outputs": [
    {
     "name": "stdout",
     "output_type": "stream",
     "text": [
      "10\n",
      "10\n"
     ]
    }
   ],
   "source": [
    "print (\"10\")\n",
    "print (10)"
   ]
  },
  {
   "cell_type": "code",
   "execution_count": 4,
   "id": "6f901e6b",
   "metadata": {},
   "outputs": [
    {
     "name": "stdout",
     "output_type": "stream",
     "text": [
      "python\n"
     ]
    }
   ],
   "source": [
    "print(\"python\")"
   ]
  },
  {
   "cell_type": "markdown",
   "id": "b2be2f31",
   "metadata": {},
   "source": [
    "### datatypes"
   ]
  },
  {
   "cell_type": "code",
   "execution_count": 6,
   "id": "ef7e3d99",
   "metadata": {},
   "outputs": [
    {
     "data": {
      "text/plain": [
       "100"
      ]
     },
     "execution_count": 6,
     "metadata": {},
     "output_type": "execute_result"
    }
   ],
   "source": [
    "x=100\n",
    "x"
   ]
  },
  {
   "cell_type": "code",
   "execution_count": 7,
   "id": "dd6c8cf5",
   "metadata": {},
   "outputs": [
    {
     "data": {
      "text/plain": [
       "int"
      ]
     },
     "execution_count": 7,
     "metadata": {},
     "output_type": "execute_result"
    }
   ],
   "source": [
    "type(x)"
   ]
  },
  {
   "cell_type": "code",
   "execution_count": 8,
   "id": "eeda08a5",
   "metadata": {},
   "outputs": [],
   "source": [
    "x=\"10\""
   ]
  },
  {
   "cell_type": "code",
   "execution_count": 9,
   "id": "f75b4988",
   "metadata": {},
   "outputs": [
    {
     "data": {
      "text/plain": [
       "str"
      ]
     },
     "execution_count": 9,
     "metadata": {},
     "output_type": "execute_result"
    }
   ],
   "source": [
    "type(x)"
   ]
  },
  {
   "cell_type": "code",
   "execution_count": 10,
   "id": "5d3db35d",
   "metadata": {},
   "outputs": [
    {
     "data": {
      "text/plain": [
       "float"
      ]
     },
     "execution_count": 10,
     "metadata": {},
     "output_type": "execute_result"
    }
   ],
   "source": [
    "x=1.2\n",
    "type(x)"
   ]
  },
  {
   "cell_type": "code",
   "execution_count": 12,
   "id": "06587a11",
   "metadata": {},
   "outputs": [
    {
     "data": {
      "text/plain": [
       "bool"
      ]
     },
     "execution_count": 12,
     "metadata": {},
     "output_type": "execute_result"
    }
   ],
   "source": [
    "x=True\n",
    "type(x)"
   ]
  },
  {
   "cell_type": "code",
   "execution_count": 13,
   "id": "55512abd",
   "metadata": {},
   "outputs": [
    {
     "data": {
      "text/plain": [
       "str"
      ]
     },
     "execution_count": 13,
     "metadata": {},
     "output_type": "execute_result"
    }
   ],
   "source": [
    "x=\"True\"\n",
    "type(x)"
   ]
  },
  {
   "cell_type": "code",
   "execution_count": 14,
   "id": "743a585d",
   "metadata": {},
   "outputs": [
    {
     "data": {
      "text/plain": [
       "str"
      ]
     },
     "execution_count": 14,
     "metadata": {},
     "output_type": "execute_result"
    }
   ],
   "source": [
    "course= \"ai\"\n",
    "course\n",
    "type(course)"
   ]
  },
  {
   "cell_type": "code",
   "execution_count": 15,
   "id": "a5c72248",
   "metadata": {},
   "outputs": [
    {
     "data": {
      "text/plain": [
       "'ai'"
      ]
     },
     "execution_count": 15,
     "metadata": {},
     "output_type": "execute_result"
    }
   ],
   "source": [
    "course= \"ai\"\n",
    "\n",
    "type(course)\n",
    "course"
   ]
  },
  {
   "cell_type": "code",
   "execution_count": 16,
   "id": "5572580b",
   "metadata": {},
   "outputs": [
    {
     "name": "stdout",
     "output_type": "stream",
     "text": [
      "ai\n"
     ]
    },
    {
     "data": {
      "text/plain": [
       "str"
      ]
     },
     "execution_count": 16,
     "metadata": {},
     "output_type": "execute_result"
    }
   ],
   "source": [
    "course= \"ai\"\n",
    "print(course)\n",
    "type(course)"
   ]
  },
  {
   "cell_type": "markdown",
   "id": "a8a15f67",
   "metadata": {},
   "source": [
    "### rules for naming variables"
   ]
  },
  {
   "cell_type": "code",
   "execution_count": 17,
   "id": "27ccac33",
   "metadata": {},
   "outputs": [
    {
     "data": {
      "text/plain": [
       "['python', 'DS', 'AI']"
      ]
     },
     "execution_count": 17,
     "metadata": {},
     "output_type": "execute_result"
    }
   ],
   "source": [
    "book_names=[\"python\", \"DS\", \"AI\"]\n",
    "book_names"
   ]
  },
  {
   "cell_type": "code",
   "execution_count": 18,
   "id": "d8b798ff",
   "metadata": {},
   "outputs": [
    {
     "ename": "SyntaxError",
     "evalue": "invalid syntax (2559854478.py, line 1)",
     "output_type": "error",
     "traceback": [
      "\u001b[1;36m  Cell \u001b[1;32mIn[18], line 1\u001b[1;36m\u001b[0m\n\u001b[1;33m    book names=[\"python\", \"DS\", \"AI\"]\u001b[0m\n\u001b[1;37m         ^\u001b[0m\n\u001b[1;31mSyntaxError\u001b[0m\u001b[1;31m:\u001b[0m invalid syntax\n"
     ]
    }
   ],
   "source": [
    "book names=[\"python\", \"DS\", \"AI\"]\n",
    "book names"
   ]
  },
  {
   "cell_type": "code",
   "execution_count": 19,
   "id": "bee57296",
   "metadata": {},
   "outputs": [
    {
     "ename": "SyntaxError",
     "evalue": "cannot assign to expression here. Maybe you meant '==' instead of '='? (4131467131.py, line 1)",
     "output_type": "error",
     "traceback": [
      "\u001b[1;36m  Cell \u001b[1;32mIn[19], line 1\u001b[1;36m\u001b[0m\n\u001b[1;33m    book+names=[\"python\", \"DS\", \"AI\"]\u001b[0m\n\u001b[1;37m    ^\u001b[0m\n\u001b[1;31mSyntaxError\u001b[0m\u001b[1;31m:\u001b[0m cannot assign to expression here. Maybe you meant '==' instead of '='?\n"
     ]
    }
   ],
   "source": [
    "book+names=[\"python\", \"DS\", \"AI\"]\n",
    "book+names"
   ]
  },
  {
   "cell_type": "markdown",
   "id": "41be3b7f",
   "metadata": {},
   "source": [
    "##### space is not allowed\n",
    "##### only allowed spl character is underscore\n",
    "##### variable name should not start with a number\n",
    "##### variable name should start with A-Z, a-z or underscore"
   ]
  },
  {
   "cell_type": "code",
   "execution_count": 22,
   "id": "19209afb",
   "metadata": {},
   "outputs": [],
   "source": [
    "######## h.w.: explore jupyter features"
   ]
  },
  {
   "cell_type": "markdown",
   "id": "b124ff6f",
   "metadata": {},
   "source": [
    "### data structures"
   ]
  },
  {
   "cell_type": "code",
   "execution_count": null,
   "id": "537214d0",
   "metadata": {},
   "outputs": [],
   "source": [
    "############# list\n",
    "########### square brackets\n",
    "#### we can retrieve elements using index and index starts from 0\n",
    "#### mutable-> we can make the changes"
   ]
  },
  {
   "cell_type": "code",
   "execution_count": 23,
   "id": "ff92321e",
   "metadata": {},
   "outputs": [
    {
     "data": {
      "text/plain": [
       "list"
      ]
     },
     "execution_count": 23,
     "metadata": {},
     "output_type": "execute_result"
    }
   ],
   "source": [
    "sample_list=[1,2,1,3,4,1,\"hi\"]\n",
    "type(sample_list)\n"
   ]
  },
  {
   "cell_type": "code",
   "execution_count": 24,
   "id": "b8ecf833",
   "metadata": {},
   "outputs": [
    {
     "data": {
      "text/plain": [
       "'hi'"
      ]
     },
     "execution_count": 24,
     "metadata": {},
     "output_type": "execute_result"
    }
   ],
   "source": [
    "sample_list[6]"
   ]
  },
  {
   "cell_type": "code",
   "execution_count": 27,
   "id": "e0d54249",
   "metadata": {},
   "outputs": [
    {
     "name": "stdout",
     "output_type": "stream",
     "text": [
      "[100, 2, 1, 3, 4, 1, 'hi']\n"
     ]
    }
   ],
   "source": [
    "sample_list[0]=100\n",
    "print (sample_list)"
   ]
  },
  {
   "cell_type": "code",
   "execution_count": null,
   "id": "503a0c3e",
   "metadata": {},
   "outputs": [],
   "source": [
    "###### ############# tuple\n",
    "########### paranthesis\n",
    "#### we can retrieve elements using index and index starts from 0\n",
    "#### immutable-> we can not make the changes"
   ]
  },
  {
   "cell_type": "code",
   "execution_count": 29,
   "id": "02da77ec",
   "metadata": {},
   "outputs": [
    {
     "data": {
      "text/plain": [
       "tuple"
      ]
     },
     "execution_count": 29,
     "metadata": {},
     "output_type": "execute_result"
    }
   ],
   "source": [
    "sample_tuple=(1,2,1,3,4,1,\"hi\")\n",
    "type(sample_tuple)"
   ]
  },
  {
   "cell_type": "code",
   "execution_count": 30,
   "id": "82b14c0a",
   "metadata": {},
   "outputs": [
    {
     "data": {
      "text/plain": [
       "1"
      ]
     },
     "execution_count": 30,
     "metadata": {},
     "output_type": "execute_result"
    }
   ],
   "source": [
    "sample_tuple[2]"
   ]
  },
  {
   "cell_type": "code",
   "execution_count": 31,
   "id": "cb217bdc",
   "metadata": {},
   "outputs": [
    {
     "data": {
      "text/plain": [
       "1"
      ]
     },
     "execution_count": 31,
     "metadata": {},
     "output_type": "execute_result"
    }
   ],
   "source": [
    "sample_tuple[0]"
   ]
  },
  {
   "cell_type": "code",
   "execution_count": 36,
   "id": "c64e18da",
   "metadata": {},
   "outputs": [
    {
     "ename": "TypeError",
     "evalue": "'tuple' object does not support item assignment",
     "output_type": "error",
     "traceback": [
      "\u001b[1;31m---------------------------------------------------------------------------\u001b[0m",
      "\u001b[1;31mTypeError\u001b[0m                                 Traceback (most recent call last)",
      "Cell \u001b[1;32mIn[36], line 1\u001b[0m\n\u001b[1;32m----> 1\u001b[0m sample_tuple[\u001b[38;5;241m2\u001b[39m]\u001b[38;5;241m=\u001b[39m\u001b[38;5;241m100\u001b[39m\n\u001b[0;32m      2\u001b[0m sample_tuple[\u001b[38;5;241m2\u001b[39m]\n",
      "\u001b[1;31mTypeError\u001b[0m: 'tuple' object does not support item assignment"
     ]
    }
   ],
   "source": [
    "sample_tuple[2]=100\n",
    "sample_tuple[2]\n",
    "##### immutable"
   ]
  },
  {
   "cell_type": "code",
   "execution_count": null,
   "id": "f2b5333e",
   "metadata": {},
   "outputs": [],
   "source": [
    "##### duplicates are not allowed\n",
    "#arranged according to first place\n",
    "#can not acccess using index\n",
    "#set is mutable(beacuse we cant change elements value bu  we can add and delete element)"
   ]
  },
  {
   "cell_type": "code",
   "execution_count": 38,
   "id": "4b007b06",
   "metadata": {},
   "outputs": [
    {
     "data": {
      "text/plain": [
       "{1, 2.3, 5.6, 7, 8, 'apple', 'cat', 'dog'}"
      ]
     },
     "execution_count": 38,
     "metadata": {},
     "output_type": "execute_result"
    }
   ],
   "source": [
    "sample_set={\"apple\",1,2.3,\"dog\",5.6,7,\"cat\",8,2.3,5.6,7,8}\n",
    "sample_set\n"
   ]
  },
  {
   "cell_type": "markdown",
   "id": "c0793b16",
   "metadata": {},
   "source": [
    "sample_set[0]=100"
   ]
  },
  {
   "cell_type": "code",
   "execution_count": 39,
   "id": "a30243d0",
   "metadata": {},
   "outputs": [
    {
     "ename": "TypeError",
     "evalue": "'set' object does not support item assignment",
     "output_type": "error",
     "traceback": [
      "\u001b[1;31m---------------------------------------------------------------------------\u001b[0m",
      "\u001b[1;31mTypeError\u001b[0m                                 Traceback (most recent call last)",
      "Cell \u001b[1;32mIn[39], line 1\u001b[0m\n\u001b[1;32m----> 1\u001b[0m sample_set[\u001b[38;5;241m0\u001b[39m]\u001b[38;5;241m=\u001b[39m\u001b[38;5;241m100\u001b[39m\n",
      "\u001b[1;31mTypeError\u001b[0m: 'set' object does not support item assignment"
     ]
    }
   ],
   "source": [
    "sample_set[0]=100"
   ]
  },
  {
   "cell_type": "code",
   "execution_count": 41,
   "id": "acec7e48",
   "metadata": {},
   "outputs": [],
   "source": [
    "sample_set.add(100)"
   ]
  },
  {
   "cell_type": "code",
   "execution_count": 42,
   "id": "7e198b42",
   "metadata": {},
   "outputs": [
    {
     "data": {
      "text/plain": [
       "{1, 100, 2.3, 5.6, 7, 8, 'apple', 'cat', 'dog'}"
      ]
     },
     "execution_count": 42,
     "metadata": {},
     "output_type": "execute_result"
    }
   ],
   "source": [
    "sample_set"
   ]
  },
  {
   "cell_type": "markdown",
   "id": "535a1371",
   "metadata": {},
   "source": [
    "Dictionary"
   ]
  },
  {
   "cell_type": "markdown",
   "id": "e66d7d81",
   "metadata": {},
   "source": [
    "#####has key value pair ds\n",
    "# key is unique\n",
    "#values can be duplicated\n",
    "# value can be retrieved using key\n",
    "# key cant be retrieved using value"
   ]
  },
  {
   "cell_type": "code",
   "execution_count": 1,
   "id": "f67367e0",
   "metadata": {},
   "outputs": [
    {
     "data": {
      "text/plain": [
       "{1: 'abcd', 2: 35, 3: 'x'}"
      ]
     },
     "execution_count": 1,
     "metadata": {},
     "output_type": "execute_result"
    }
   ],
   "source": [
    "sample_dict={1:\"abcd\", 2:35, 3:\"x\"}\n",
    "sample_dict"
   ]
  },
  {
   "cell_type": "code",
   "execution_count": 2,
   "id": "841082a9",
   "metadata": {},
   "outputs": [
    {
     "data": {
      "text/plain": [
       "35"
      ]
     },
     "execution_count": 2,
     "metadata": {},
     "output_type": "execute_result"
    }
   ],
   "source": [
    "sample_dict[2]"
   ]
  },
  {
   "cell_type": "code",
   "execution_count": 3,
   "id": "205c5f6b",
   "metadata": {},
   "outputs": [
    {
     "ename": "KeyError",
     "evalue": "'x'",
     "output_type": "error",
     "traceback": [
      "\u001b[1;31m---------------------------------------------------------------------------\u001b[0m",
      "\u001b[1;31mKeyError\u001b[0m                                  Traceback (most recent call last)",
      "Cell \u001b[1;32mIn[3], line 1\u001b[0m\n\u001b[1;32m----> 1\u001b[0m \u001b[43msample_dict\u001b[49m\u001b[43m[\u001b[49m\u001b[38;5;124;43m\"\u001b[39;49m\u001b[38;5;124;43mx\u001b[39;49m\u001b[38;5;124;43m\"\u001b[39;49m\u001b[43m]\u001b[49m\n",
      "\u001b[1;31mKeyError\u001b[0m: 'x'"
     ]
    }
   ],
   "source": [
    "sample_dict[\"x\"]"
   ]
  },
  {
   "cell_type": "code",
   "execution_count": 4,
   "id": "fc01828a",
   "metadata": {},
   "outputs": [
    {
     "ename": "TypeError",
     "evalue": "unhashable type: 'slice'",
     "output_type": "error",
     "traceback": [
      "\u001b[1;31m---------------------------------------------------------------------------\u001b[0m",
      "\u001b[1;31mTypeError\u001b[0m                                 Traceback (most recent call last)",
      "Cell \u001b[1;32mIn[4], line 1\u001b[0m\n\u001b[1;32m----> 1\u001b[0m \u001b[43msample_dict\u001b[49m\u001b[43m[\u001b[49m\u001b[38;5;241;43m4\u001b[39;49m\u001b[43m:\u001b[49m\u001b[38;5;241;43m1234\u001b[39;49m\u001b[43m]\u001b[49m\n",
      "\u001b[1;31mTypeError\u001b[0m: unhashable type: 'slice'"
     ]
    }
   ],
   "source": [
    "sample_dict[4:1234]"
   ]
  },
  {
   "cell_type": "code",
   "execution_count": 5,
   "id": "b5d8b51e",
   "metadata": {},
   "outputs": [],
   "source": [
    "sample_dict[4]=1234"
   ]
  },
  {
   "cell_type": "code",
   "execution_count": 6,
   "id": "ac795102",
   "metadata": {},
   "outputs": [
    {
     "data": {
      "text/plain": [
       "{1: 'abcd', 2: 35, 3: 'x', 4: 1234}"
      ]
     },
     "execution_count": 6,
     "metadata": {},
     "output_type": "execute_result"
    }
   ],
   "source": [
    "sample_dict\n"
   ]
  },
  {
   "cell_type": "code",
   "execution_count": 7,
   "id": "06e717ca",
   "metadata": {},
   "outputs": [],
   "source": [
    "sample_dict={1:\"abcd\", 2:35, 3:\"x\", 2:\"abc\"}"
   ]
  },
  {
   "cell_type": "code",
   "execution_count": 8,
   "id": "e668d9fc",
   "metadata": {},
   "outputs": [
    {
     "data": {
      "text/plain": [
       "{1: 'abcd', 2: 'abc', 3: 'x'}"
      ]
     },
     "execution_count": 8,
     "metadata": {},
     "output_type": "execute_result"
    }
   ],
   "source": [
    "sample_dict"
   ]
  },
  {
   "cell_type": "code",
   "execution_count": 14,
   "id": "d701dceb",
   "metadata": {},
   "outputs": [],
   "source": [
    "sample_dict={1:\"abcd\", 2:35, 3:\"x\", 2:\"abc\", 2:\"xyz\"}"
   ]
  },
  {
   "cell_type": "code",
   "execution_count": 15,
   "id": "708c7691",
   "metadata": {},
   "outputs": [
    {
     "data": {
      "text/plain": [
       "{1: 'abcd', 2: 'xyz', 3: 'x'}"
      ]
     },
     "execution_count": 15,
     "metadata": {},
     "output_type": "execute_result"
    }
   ],
   "source": [
    "sample_dict"
   ]
  },
  {
   "cell_type": "code",
   "execution_count": null,
   "id": "ffc71927",
   "metadata": {},
   "outputs": [],
   "source": []
  }
 ],
 "metadata": {
  "kernelspec": {
   "display_name": "Python 3 (ipykernel)",
   "language": "python",
   "name": "python3"
  },
  "language_info": {
   "codemirror_mode": {
    "name": "ipython",
    "version": 3
   },
   "file_extension": ".py",
   "mimetype": "text/x-python",
   "name": "python",
   "nbconvert_exporter": "python",
   "pygments_lexer": "ipython3",
   "version": "3.10.9"
  }
 },
 "nbformat": 4,
 "nbformat_minor": 5
}
